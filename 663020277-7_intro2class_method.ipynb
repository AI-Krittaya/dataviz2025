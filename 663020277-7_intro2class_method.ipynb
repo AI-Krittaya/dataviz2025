{
  "cells": [
    {
      "cell_type": "markdown",
      "metadata": {
        "id": "view-in-github",
        "colab_type": "text"
      },
      "source": [
        "<a href=\"https://colab.research.google.com/github/AI-Krittaya/dataviz2025/blob/main/663020277-7_intro2class_method.ipynb\" target=\"_parent\"><img src=\"https://colab.research.google.com/assets/colab-badge.svg\" alt=\"Open In Colab\"/></a>"
      ]
    },
    {
      "cell_type": "markdown",
      "id": "1f24b834",
      "metadata": {
        "id": "1f24b834"
      },
      "source": [
        "# **แนะนำ Python Class และ Method**"
      ]
    },
    {
      "cell_type": "markdown",
      "id": "ce2d7316",
      "metadata": {
        "id": "ce2d7316"
      },
      "source": [
        "## **บทนำ**\n",
        "> Class คืออะไร?\n",
        "\n",
        "Class คือ แม่แบบ (template) สำหรับสร้าง Object\n",
        "เปรียบเสมือนพิมพ์เขียว (blueprint) สำหรับสร้างบ้าน\n",
        "ช่วยจัดกลุ่มข้อมูลและฟังก์ชันที่เกี่ยวข้องกันไว้ด้วยกัน\n",
        "\n",
        "> Method คืออะไร?\n",
        "\n",
        "Method คือ ฟังก์ชันที่อยู่ภายใน Class\n",
        "เป็นการกระทำ (action) ที่ Object สามารถทำได้\n",
        "ใช้ในการจัดการข้อมูลภายใน Object"
      ]
    },
    {
      "cell_type": "markdown",
      "id": "4a0ffb97",
      "metadata": {
        "id": "4a0ffb97"
      },
      "source": [
        "### **โครงสร้างพื้นฐานของ Class**\n"
      ]
    },
    {
      "cell_type": "markdown",
      "id": "9871f138",
      "metadata": {
        "id": "9871f138"
      },
      "source": [
        "**Syntax พื้นฐาน**\n",
        "\n",
        "````python\n",
        "class ชื่อClass:\n",
        "    def __init__(self, parameter):\n",
        "        # Constructor method\n",
        "        self.attribute = parameter # กำหนด attribute ให้กับคลาส\n",
        "    \n",
        "    def method_name(self):\n",
        "        # Method อื่นๆ\n",
        "        pass\n",
        "```"
      ]
    },
    {
      "cell_type": "markdown",
      "id": "83633ce4",
      "metadata": {
        "id": "83633ce4"
      },
      "source": [
        "*ตัวอย่าง*\n",
        "\n",
        "```python\n",
        "class Dog:\n",
        "    def __init__(self, name, age):\n",
        "        self.name = name\n",
        "        self.age = age\n",
        "    \n",
        "    def bark(self):\n",
        "        return f\"{self.name} กำลังเห่า!\"\n",
        "    \n",
        "    def get_info(self):\n",
        "        return f\"ชื่อ: {self.name}, อายุ: {self.age} ปี\"\n",
        "```\n"
      ]
    },
    {
      "cell_type": "code",
      "execution_count": null,
      "id": "fbb14073",
      "metadata": {
        "vscode": {
          "languageId": "plaintext"
        },
        "id": "fbb14073"
      },
      "outputs": [],
      "source": [
        "# ใส่โค้ดตัวอย่าง รันผล\n",
        "\n"
      ]
    },
    {
      "cell_type": "markdown",
      "id": "ff9f84d0",
      "metadata": {
        "id": "ff9f84d0"
      },
      "source": [
        "> บรรทัดที่ 1: การประกาศ Class\n",
        "```python\n",
        "class Dog:\n",
        "```    \n",
        "อธิบาย:\n",
        "\n",
        "- `class` เป็นคำสั่งในการสร้าง Class ใหม่\n",
        "\n",
        "- `Dog` คือชื่อของ Class (ใช้ตัวพิมพ์ใหญ่ตัวแรกตาม convention)\n",
        ": (colon) บอกว่าเริ่มต้น block ของ Class\n",
        "Class Dog นี้เปรียบเสมือน \"แม่แบบ\" สำหรับสร้างสุนัขตัวต่างๆ\n",
        "\n",
        "> บรรทัดที่ 2-4: Constructor Method\n",
        "\n",
        "```python\n",
        "def __init__(self, name, age):\n",
        "    self.name = name\n",
        "    self.age = age\n",
        "```\n",
        "อธิบาย:\n",
        "\n",
        "- `__init__` เป็น Constructor Method (ตัวสร้าง) ที่จะถูกเรียกอัตโนมัติเมื่อสร้าง Object ใหม่\n",
        "- `self` คือการอ้างอิงถึง Object ตัวที่กำลังสร้าง (จำเป็นต้องใส่เป็น parameter แรกเสมอ)\n",
        "- `name`, `age` คือ parameters ที่รับค่าจากภายนอกเมื่อสร้าง Object\n",
        "- `self.name = name` กำหนดค่า attribute ชื่อ name ให้กับ Object\n",
        "- `self.age = age` กำหนดค่า attribute ชื่อ age ให้กับ Object\n",
        "\n",
        "> บรรทัดที่ 6-7: Method bark()\n",
        "\n",
        "```python\n",
        "def bark(self):\n",
        "    return f\"{self.name} กำลังเห่า\"\n",
        "```\n",
        "\n",
        "อธิบาย:\n",
        "\n",
        "- `bark()` เป็น Instance Method ที่ต้องทำตามคำสั่ง ในที่นี้คือ ให้ปริ้นข้อความ \"ชือ\" และ \"กำลังเห่า\"\n",
        "- `self` ทำให้เข้าถึง attribute name ของ Object ได้\n",
        "- `return` ส่งค่าข้อความกลับให้ผู้เรียกใช้\n",
        "\n",
        "> บรรทัดที่ 9-10: Method get_info()\n",
        "```python\n",
        "def get_info(self):\n",
        "    return f\"ชื่อ: {self.name}, อายุ: {self.age} ปี\"\n",
        "```\n",
        "อธิบาย:\n",
        "\n",
        "- `get_info()` เป็น Instance Method ที่แสดงข้อมูลของสุนัข\n",
        "ใช้ self.name และ self.age เพื่อเข้าถึง attributes ของ Object\n",
        "ส่งคืนข้อความที่รวมข้อมูลทั้งชื่อและอายุ"
      ]
    },
    {
      "cell_type": "markdown",
      "id": "ed57367b",
      "metadata": {
        "id": "ed57367b"
      },
      "source": [
        "### **การสร้างและใช้งาน Object**\n",
        "\n",
        "**การสร้าง Object (Instance)**\n",
        "ในที่นี้เราจะสร้าง 2 object Dog 2 instances\n",
        "\n",
        "```python\n",
        "# สร้าง Object จาก Class Dog\n",
        "my_dog = Dog(\"บัดดี้\", 3)\n",
        "friend_dog = Dog(\"มักซ์\", 5)\n",
        "```\n",
        "**การเรียกใช้ Method**\n",
        "```python\n",
        "# เรียกใช้ method\n",
        "print(my_dog.bark())        # บัดดี้ กำลังเห่า วัฟ วัฟ!\n",
        "print(my_dog.get_info())    # ชื่อ: บัดดี้, อายุ: 3 ปี\n",
        "print(friend_dog.bark())    # มักซ์ กำลังเห่า วัฟ วัฟ!\n",
        "print(friend_dog.get_info()) # ชื่อ: มักซ์, อายุ: 5 ปี\n",
        "```"
      ]
    },
    {
      "cell_type": "code",
      "execution_count": null,
      "id": "384ff5df",
      "metadata": {
        "vscode": {
          "languageId": "plaintext"
        },
        "id": "384ff5df"
      },
      "outputs": [],
      "source": [
        "# ใส่โค้ดตัวอย่าง รันผลการสร้าง instance และการใช้งาน method\n"
      ]
    },
    {
      "cell_type": "markdown",
      "id": "8b043818",
      "metadata": {
        "id": "8b043818"
      },
      "source": [
        "## **ความเข้าใจเรื่อง** `self`\n",
        "self คืออะไร?\n",
        "\n",
        "> `self` คือการอ้างอิงถึง Object ปัจจุบัน\n",
        "จำเป็นต้องใส่เป็น parameter แรกในทุก method\n",
        "ใช้เพื่อเข้าถึง attributes และ methods ของ Object นั้นๆ\n",
        "\n",
        "*ตัวอย่างการใช้* `self`\n",
        "การสร้าง object ชื่อ Student\n",
        "\n",
        "```python\n",
        "class Student:\n",
        "    def __init__(self, name, grade):\n",
        "        self.name = name      # self.name คือ attribute ของ Object นี้\n",
        "        self.grade = grade    # self.grade คือ attribute ของ Object นี้\n",
        "    \n",
        "    def study(self, subject):\n",
        "        return f\"{self.name} กำลังเรียนวิชา {subject}\"\n",
        "    \n",
        "    def get_grade(self):\n",
        "        return f\"{self.name} ได้เกรด {self.grade}\"\n",
        "```        "
      ]
    },
    {
      "cell_type": "markdown",
      "id": "922d6bdd",
      "metadata": {
        "id": "922d6bdd"
      },
      "source": [
        "### *ตัวอย่างการใช้งานจริง*\n",
        "ตัวอย่าง: ระบบจัดการห้องสมุด\n",
        "```python\n",
        "class Book:\n",
        "    def __init__(self, title, author, isbn):\n",
        "        self.title = title\n",
        "        self.author = author\n",
        "        self.isbn = isbn\n",
        "        self.is_borrowed = False\n",
        "        self.borrowed_by = None\n",
        "    \n",
        "    def borrow_book(self, borrower_name):\n",
        "        if not self.is_borrowed:\n",
        "            self.is_borrowed = True\n",
        "            self.borrowed_by = borrower_name\n",
        "            return f\"'{self.title}' ถูกยืมโดย {borrower_name}\"\n",
        "        return f\"'{self.title}' ถูกยืมไปแล้ว\"\n",
        "    \n",
        "    def return_book(self):\n",
        "        if self.is_borrowed:\n",
        "            borrower = self.borrowed_by\n",
        "            self.is_borrowed = False\n",
        "            self.borrowed_by = None\n",
        "            return f\"'{self.title}' ถูกคืนโดย {borrower}\"\n",
        "        return f\"'{self.title}' ไม่ได้ถูกยืม\"\n",
        "    \n",
        "    def get_status(self):\n",
        "        if self.is_borrowed:\n",
        "            return f\"'{self.title}' - ถูกยืมโดย {self.borrowed_by}\"\n",
        "        return f\"'{self.title}' - พร้อมให้ยืม\"\n",
        "```\n",
        "*การใช้งาน*\n",
        "\n",
        "```python\n",
        "book1 = Book(\"Harry Potter\", \"J.K. Rowling\", \"978-0747532699\")\n",
        "print(book1.get_status())           # 'Harry Potter' - พร้อมให้ยืม\n",
        "print(book1.borrow_book(\"สมชาย\"))   # 'Harry Potter' ถูกยืมโดย สมชาย\n",
        "print(book1.get_status())           # 'Harry Potter' - ถูกยืมโดย สมชาย\n",
        "print(book1.return_book())          # 'Harry Potter' ถูกคืนโดย สมชาย\n",
        "```"
      ]
    },
    {
      "cell_type": "code",
      "execution_count": null,
      "id": "a1ba65b9",
      "metadata": {
        "vscode": {
          "languageId": "plaintext"
        },
        "id": "a1ba65b9"
      },
      "outputs": [],
      "source": [
        "# ทดลองรันโค้ด\n",
        "\n"
      ]
    },
    {
      "cell_type": "markdown",
      "id": "0235f961",
      "metadata": {
        "id": "0235f961"
      },
      "source": [
        "## **Class Variables vs Instance Variables**"
      ]
    },
    {
      "cell_type": "markdown",
      "id": "da7adfc6",
      "metadata": {
        "id": "da7adfc6"
      },
      "source": [
        "\n",
        "> **Instance Variables**\n",
        "\n",
        "เป็นข้อมูลที่เฉพาะเจาะจงกับแต่ละ Object ถูกสร้างใน `__init__` method\n",
        "\n",
        "> Class Variables\n",
        "\n",
        "เป็นข้อมูลที่ใช้ร่วมกันทุก Object ของ Class เดียวกัน ถูกกำหนดนอก method\n",
        "\n",
        "```python\n",
        "class Employee:\n",
        "    company_name = \"บริษัท ABC จำกัด\"  # Class variable\n",
        "    total_employees = 0                # Class variable\n",
        "    \n",
        "    def __init__(self, name, position):\n",
        "        self.name = name              # Instance variable\n",
        "        self.position = position      # Instance variable\n",
        "        Employee.total_employees += 1  # เพิ่มจำนวนพนักงาน\n",
        "    \n",
        "    def get_info(self):\n",
        "        return f\"ชื่อ: {self.name}, ตำแหน่ง: {self.position}, บริษัท: {Employee.company_name}\"\n",
        "    \n",
        "    @classmethod\n",
        "    def get_total_employees(cls):\n",
        "        return f\"จำนวนพนักงานทั้งหมด: {cls.total_employees} คน\"\n",
        "\n",
        "# การใช้งาน\n",
        "emp1 = Employee(\"สมศรี\", \"โปรแกรมเมอร์\")\n",
        "emp2 = Employee(\"สมหมาย\", \"นักวิเคราะห์\")\n",
        "\n",
        "print(emp1.get_info())                    # ข้อมูลพนักงาน สมศรี (การเรียกใช้ method นี้ จะเรียกผ่าน instance emp1)\n",
        "print(Employee.get_total_employees())     # จำนวนพนักงานทั้งหมด: 2 คน (การเรียกใช้ method นี้จะเรียกผ่าน Class Employee)\n",
        "```"
      ]
    },
    {
      "cell_type": "markdown",
      "id": "8c1dae53",
      "metadata": {
        "id": "8c1dae53"
      },
      "source": [
        "## HOME: Assigments"
      ]
    },
    {
      "cell_type": "markdown",
      "id": "6590d2cd",
      "metadata": {
        "id": "6590d2cd"
      },
      "source": [
        "**คำสั่ง**\n",
        "\n",
        "Q1. กำหนดคลาส Calculator ดังนี้\n",
        "\n",
        "```python\n",
        "class Calculator:\n",
        "    def __init__(self):\n",
        "        self.a = None\n",
        "        self.b = None\n",
        "```\n",
        "จงสร้าง method ดังต่อไปนี้\n",
        "- `input_numbers` เพื่อทำการใส่ค่า attribute ให้กับ self.a และ self.b\n",
        "- `plus` ส่งกลับค่าผลบวกระหว่าง ค่า attribute a และ b\n",
        "- `minus` ส่งกลับค่าผลต่างระหว่าง ค่า attribute a และ b\n",
        "- `times` ส่งกลับค่าผลคูณระหว่าง ค่า attribute a และ b\n",
        "- `divide` ส่งกลับค่าผลหารระหว่าง ค่า attribute a และ b และต้งตรวจสอบด้วยว่าตัวหารต้องไม่เป็น 0"
      ]
    },
    {
      "cell_type": "code",
      "execution_count": null,
      "id": "9ad8a452",
      "metadata": {
        "vscode": {
          "languageId": "plaintext"
        },
        "id": "9ad8a452"
      },
      "outputs": [],
      "source": [
        "# Coding here\n"
      ]
    },
    {
      "cell_type": "markdown",
      "id": "46b6aac4",
      "metadata": {
        "id": "46b6aac4"
      },
      "source": [
        "**คำสั่ง**\n",
        "\n",
        "Q2. ProductAnalyzer Class (ระดับเริ่มต้น)\n",
        "\n",
        "จาก \"product.csv\" สร้าง Class ProductPipeline สำหรับทำ data pipeline เบื้องต้น โดยมี methods ดังนี้:\n",
        "\n",
        "- load_data(file_path) - โหลดข้อมูลจากไฟล์ CSV และแสดงผลเป็นชื่อคอลัมภ์ทั้งหมด\n",
        "- select_columns(column_list) - เลือกคอลัมน์พื้นฐาน โดยให้สามารถระบุชื่อคอลัมภ์ที่ต้องการเลือกได้\n",
        "- get_summary() - แสดงสรุปข้อมูลสินค้าเบื้องต้นแยกตาม category\n",
        "\n",
        "กำหนด คลาส ProductPipeline เริ่มต้น ดังนี้\n",
        "```python\n",
        "import polars as pl\n",
        "\n",
        "class ProductPipeline:\n",
        "    def __init__(self):\n",
        "        self.csv_path = None\n",
        "```        "
      ]
    },
    {
      "cell_type": "code",
      "execution_count": null,
      "id": "bd7a9eeb",
      "metadata": {
        "vscode": {
          "languageId": "plaintext"
        },
        "id": "bd7a9eeb"
      },
      "outputs": [],
      "source": [
        "# ======== Coding Here ==========\n"
      ]
    }
  ],
  "metadata": {
    "language_info": {
      "name": "python"
    },
    "colab": {
      "provenance": [],
      "include_colab_link": true
    }
  },
  "nbformat": 4,
  "nbformat_minor": 5
}